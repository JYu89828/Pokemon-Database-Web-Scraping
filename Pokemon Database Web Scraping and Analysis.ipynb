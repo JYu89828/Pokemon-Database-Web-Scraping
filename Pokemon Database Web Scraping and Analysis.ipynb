{
 "cells": [
  {
   "cell_type": "markdown",
   "metadata": {},
   "source": [
    "# Step 1 - Scraping the pokedex"
   ]
  },
  {
   "cell_type": "markdown",
   "metadata": {},
   "source": [
    "## Step 1.1 Use BeautifulSoup to extract all the table rows as a list. "
   ]
  },
  {
   "cell_type": "code",
   "execution_count": 123,
   "metadata": {},
   "outputs": [],
   "source": [
    "#Use BeautifulSoup to extract all the table rows as a list. \n",
    "#Create an HTTP request for the page \n",
    "import requests\n",
    "from bs4 import BeautifulSoup\n",
    "url='https://pokemondb.net/pokedex/all'\n",
    "import re"
   ]
  },
  {
   "cell_type": "code",
   "execution_count": 124,
   "metadata": {},
   "outputs": [
    {
     "data": {
      "text/plain": [
       "<Response [200]>"
      ]
     },
     "execution_count": 124,
     "metadata": {},
     "output_type": "execute_result"
    }
   ],
   "source": [
    "page = requests.get(url)\n",
    "# Response code is returned\n",
    "page"
   ]
  },
  {
   "cell_type": "code",
   "execution_count": 125,
   "metadata": {},
   "outputs": [],
   "source": [
    "page_soup = BeautifulSoup(page.text, 'html.parser')\n",
    "#page_soup.prettify()\n"
   ]
  },
  {
   "cell_type": "code",
   "execution_count": 126,
   "metadata": {},
   "outputs": [
    {
     "data": {
      "text/plain": [
       "56"
      ]
     },
     "execution_count": 126,
     "metadata": {},
     "output_type": "execute_result"
    }
   ],
   "source": [
    "import sys\n",
    "sys.getsizeof(page)"
   ]
  },
  {
   "cell_type": "code",
   "execution_count": 127,
   "metadata": {},
   "outputs": [],
   "source": [
    "header_raw=page_soup.find_all(name=\"div\", class_=\"sortwrap\")\n",
    "header=[]\n",
    "for i in header_raw:\n",
    "    header.append(i.text)"
   ]
  },
  {
   "cell_type": "code",
   "execution_count": 128,
   "metadata": {},
   "outputs": [
    {
     "data": {
      "text/plain": [
       "['#',\n",
       " 'Name',\n",
       " 'Type',\n",
       " 'Total',\n",
       " 'HP',\n",
       " 'Attack',\n",
       " 'Defense',\n",
       " 'Sp. Atk',\n",
       " 'Sp. Def',\n",
       " 'Speed']"
      ]
     },
     "execution_count": 128,
     "metadata": {},
     "output_type": "execute_result"
    }
   ],
   "source": [
    "header"
   ]
  },
  {
   "cell_type": "code",
   "execution_count": 129,
   "metadata": {},
   "outputs": [
    {
     "name": "stdout",
     "output_type": "stream",
     "text": [
      "Number of results: 1\n"
     ]
    }
   ],
   "source": [
    "body = page_soup.find_all('tbody')\n",
    "print(\"Number of results: \" + str(len(body)))\n",
    "#page_list[0].find_all(\"tr\")\n",
    "content=[]\n",
    "for each in page_soup.findAll(name = 'td'):\n",
    "    content.append(each.contents)\n",
    "rows=[content[i:i+10] for i in range(0, len(content), 10)]   \n"
   ]
  },
  {
   "cell_type": "code",
   "execution_count": 130,
   "metadata": {},
   "outputs": [],
   "source": [
    "rows.append(header)\n",
    "rowsfinal=[]\n",
    "for row in rows:\n",
    "    row=list(row)\n",
    "    rowsfinal.append(row)"
   ]
  },
  {
   "cell_type": "code",
   "execution_count": 131,
   "metadata": {},
   "outputs": [
    {
     "data": {
      "text/plain": [
       "927"
      ]
     },
     "execution_count": 131,
     "metadata": {},
     "output_type": "execute_result"
    }
   ],
   "source": [
    "len(rowsfinal)"
   ]
  },
  {
   "cell_type": "markdown",
   "metadata": {},
   "source": [
    "There are 927 rows in the extracted list, including the header"
   ]
  },
  {
   "cell_type": "markdown",
   "metadata": {},
   "source": [
    "## Step 1.2 Extract name,url, types,total points and statistics of the first pokemon as a test"
   ]
  },
  {
   "cell_type": "code",
   "execution_count": 132,
   "metadata": {},
   "outputs": [
    {
     "data": {
      "text/plain": [
       "'[<span class=\"infocard-cell-img\"><span class=\"img-fixed icon-pkmn\" data-alt=\"Bulbasaur icon\" data-src=\"https://img.pokemondb.net/sprites/sun-moon/icon/bulbasaur.png\"></span></span>, <span class=\"infocard-cell-data\">001</span>][<a class=\"ent-name\" href=\"/pokedex/bulbasaur\" title=\"View pokedex for #001 Bulbasaur\">Bulbasaur</a>][<a class=\"type-icon type-grass\" href=\"/type/grass\">Grass</a>, <br/>, \\' \\', <a class=\"type-icon type-poison\" href=\"/type/poison\">Poison</a>][\\'318\\'][\\'45\\'][\\'49\\'][\\'49\\'][\\'65\\'][\\'65\\'][\\'45\\']'"
      ]
     },
     "execution_count": 132,
     "metadata": {},
     "output_type": "execute_result"
    }
   ],
   "source": [
    "bulbasaur=rowsfinal[0]\n",
    "string=''.join(str(e) for e in bulbasaur)\n",
    "string"
   ]
  },
  {
   "cell_type": "code",
   "execution_count": 133,
   "metadata": {},
   "outputs": [
    {
     "name": "stdout",
     "output_type": "stream",
     "text": [
      "['bulbasaur']\n"
     ]
    }
   ],
   "source": [
    "#The name of the pokemon\n",
    "regexName = r'/pokedex/(.*)\"\\stitle'\n",
    "Name = re.findall(regexName, string)\n",
    "print(Name)"
   ]
  },
  {
   "cell_type": "code",
   "execution_count": 134,
   "metadata": {},
   "outputs": [
    {
     "name": "stdout",
     "output_type": "stream",
     "text": [
      "['/pokedex/bulbasaur']\n"
     ]
    }
   ],
   "source": [
    "#The url of the pokemon\n",
    "regexLink = r'href=\"(.*)\"\\stitle'\n",
    "Link = re.findall(regexLink, string)\n",
    "print(Link)"
   ]
  },
  {
   "cell_type": "code",
   "execution_count": 135,
   "metadata": {},
   "outputs": [
    {
     "name": "stdout",
     "output_type": "stream",
     "text": [
      "['Grass Poison']\n"
     ]
    }
   ],
   "source": [
    "#The types of the pokemon\n",
    "regexType1 = r'(?<=/type/).*>(\\w+)(?=</a>\\,)'\n",
    "regexType2 =  r'(?<=/type/).*>(\\w+)(?=</a>\\])'\n",
    "Type1 = re.findall(regexType1, string)\n",
    "Type2 = re.findall(regexType2, string)\n",
    "Type_List=Type1+Type2\n",
    "Type=[' '.join(str(t) for t in Type_List)]\n",
    "print(Type)"
   ]
  },
  {
   "cell_type": "code",
   "execution_count": 136,
   "metadata": {},
   "outputs": [
    {
     "name": "stdout",
     "output_type": "stream",
     "text": [
      "['318']\n"
     ]
    }
   ],
   "source": [
    "#The total points of the pokemon\n",
    "regexTotal = r'(?<=\\[\\')(\\d{3})'\n",
    "Total = re.findall(regexTotal, string)\n",
    "print(Total)"
   ]
  },
  {
   "cell_type": "code",
   "execution_count": 137,
   "metadata": {},
   "outputs": [
    {
     "name": "stdout",
     "output_type": "stream",
     "text": [
      "['001', '45', '49', '49', '65', '65', '45']\n"
     ]
    }
   ],
   "source": [
    "#The list of ID Number, HP, Attack, Defense, Sp. Atk, Sp. Def, Speed of the pokemon\n",
    "regexID = r'(\\d+)</span>'\n",
    "ID = re.findall(regexID, string)\n",
    "\n",
    "regexNumeric = r'(?<=[\\d+]\\'\\]\\[\\')(\\d+)'\n",
    "Numeric = re.findall(regexNumeric, string)\n",
    "\n",
    "statistics=ID+Numeric\n",
    "print(statistics)"
   ]
  },
  {
   "cell_type": "markdown",
   "metadata": {},
   "source": [
    "## Step 1.3 Define a function that takes in a row of the pokedex table and returns it as a DataFrame with a single row. "
   ]
  },
  {
   "cell_type": "code",
   "execution_count": 138,
   "metadata": {},
   "outputs": [],
   "source": [
    "\n",
    "#Create a single DataFrame by appending these rows. \n",
    "def pokedex(rowsfinal):\n",
    "    import pandas as pd\n",
    "    statistics=[]\n",
    "    Name=[]\n",
    "    Link=[]\n",
    "    Type=[]\n",
    "    Total=[]\n",
    "    regexName = r'/pokedex/(.*)\"\\stitle'\n",
    "    regexLink = r'href=\"(.*)\"\\stitle'\n",
    "    regexType1 = r'(?<=/type/).*>(\\w+)(?=</a>\\,)'\n",
    "    regexType2 =  r'(?<=/type/).*>(\\w+)(?=</a>\\])'\n",
    "    regexTotal = r'(?<=\\[\\')(\\d{3}?)'\n",
    "    regexID = r'(\\d+)</span>'\n",
    "    regexNumeric = r'(?<=[\\d+]\\'\\]\\[\\')(\\d+)'\n",
    "    for i in range(len(rowsfinal)-1):\n",
    "        string=''.join(str(e) for e in rowsfinal[i])\n",
    "        Name.append(re.findall(regexName, string))\n",
    "        ID = re.findall(regexID, string)\n",
    "        Numeric = re.findall(regexNumeric, string)\n",
    "        statistics.append(ID+Numeric)\n",
    "        Link.append(re.findall(regexLink, string))\n",
    "        Type1 = re.findall(regexType1, string)\n",
    "        Type2 = re.findall(regexType2, string)\n",
    "        Type_List=Type1+Type2\n",
    "        Type.append([' '.join(str(t) for t in Type_List)])\n",
    "        Total.append(re.findall(regexTotal, string)[0])\n",
    "    df=pd.DataFrame((list(zip(statistics,Name,Link,Type,Total))))\n",
    "    return df\n",
    "        "
   ]
  },
  {
   "cell_type": "code",
   "execution_count": 139,
   "metadata": {},
   "outputs": [
    {
     "data": {
      "text/html": [
       "<div>\n",
       "<style scoped>\n",
       "    .dataframe tbody tr th:only-of-type {\n",
       "        vertical-align: middle;\n",
       "    }\n",
       "\n",
       "    .dataframe tbody tr th {\n",
       "        vertical-align: top;\n",
       "    }\n",
       "\n",
       "    .dataframe thead th {\n",
       "        text-align: right;\n",
       "    }\n",
       "</style>\n",
       "<table border=\"1\" class=\"dataframe\">\n",
       "  <thead>\n",
       "    <tr style=\"text-align: right;\">\n",
       "      <th></th>\n",
       "      <th>0</th>\n",
       "      <th>1</th>\n",
       "      <th>2</th>\n",
       "      <th>3</th>\n",
       "      <th>4</th>\n",
       "    </tr>\n",
       "  </thead>\n",
       "  <tbody>\n",
       "    <tr>\n",
       "      <td>0</td>\n",
       "      <td>[001, 45, 49, 49, 65, 65, 45]</td>\n",
       "      <td>[bulbasaur]</td>\n",
       "      <td>[/pokedex/bulbasaur]</td>\n",
       "      <td>[Grass Poison]</td>\n",
       "      <td>318</td>\n",
       "    </tr>\n",
       "    <tr>\n",
       "      <td>1</td>\n",
       "      <td>[002, 60, 62, 63, 80, 80, 60]</td>\n",
       "      <td>[ivysaur]</td>\n",
       "      <td>[/pokedex/ivysaur]</td>\n",
       "      <td>[Grass Poison]</td>\n",
       "      <td>405</td>\n",
       "    </tr>\n",
       "    <tr>\n",
       "      <td>2</td>\n",
       "      <td>[003, 80, 82, 83, 100, 100, 80]</td>\n",
       "      <td>[venusaur]</td>\n",
       "      <td>[/pokedex/venusaur]</td>\n",
       "      <td>[Grass Poison]</td>\n",
       "      <td>525</td>\n",
       "    </tr>\n",
       "    <tr>\n",
       "      <td>3</td>\n",
       "      <td>[003, 80, 100, 123, 122, 120, 80]</td>\n",
       "      <td>[venusaur]</td>\n",
       "      <td>[/pokedex/venusaur]</td>\n",
       "      <td>[Grass Poison]</td>\n",
       "      <td>625</td>\n",
       "    </tr>\n",
       "    <tr>\n",
       "      <td>4</td>\n",
       "      <td>[004, 39, 52, 43, 60, 50, 65]</td>\n",
       "      <td>[charmander]</td>\n",
       "      <td>[/pokedex/charmander]</td>\n",
       "      <td>[Fire]</td>\n",
       "      <td>309</td>\n",
       "    </tr>\n",
       "  </tbody>\n",
       "</table>\n",
       "</div>"
      ],
      "text/plain": [
       "                                   0             1                      2  \\\n",
       "0      [001, 45, 49, 49, 65, 65, 45]   [bulbasaur]   [/pokedex/bulbasaur]   \n",
       "1      [002, 60, 62, 63, 80, 80, 60]     [ivysaur]     [/pokedex/ivysaur]   \n",
       "2    [003, 80, 82, 83, 100, 100, 80]    [venusaur]    [/pokedex/venusaur]   \n",
       "3  [003, 80, 100, 123, 122, 120, 80]    [venusaur]    [/pokedex/venusaur]   \n",
       "4      [004, 39, 52, 43, 60, 50, 65]  [charmander]  [/pokedex/charmander]   \n",
       "\n",
       "                3    4  \n",
       "0  [Grass Poison]  318  \n",
       "1  [Grass Poison]  405  \n",
       "2  [Grass Poison]  525  \n",
       "3  [Grass Poison]  625  \n",
       "4          [Fire]  309  "
      ]
     },
     "execution_count": 139,
     "metadata": {},
     "output_type": "execute_result"
    }
   ],
   "source": [
    "df=pokedex(rowsfinal)\n",
    "df.head()"
   ]
  },
  {
   "cell_type": "markdown",
   "metadata": {},
   "source": [
    "# Step 2 - Cleaning the Pokedex"
   ]
  },
  {
   "cell_type": "markdown",
   "metadata": {},
   "source": [
    "## Step 2.1 Add column names to the DataFrame. Convert strings to numeric where appropriate. Make the ID number the first column in the DataFrame"
   ]
  },
  {
   "cell_type": "code",
   "execution_count": 140,
   "metadata": {},
   "outputs": [],
   "source": [
    "\n",
    "df.columns = ['statistics','Name','URL','Type','Total']\n"
   ]
  },
  {
   "cell_type": "code",
   "execution_count": 141,
   "metadata": {},
   "outputs": [],
   "source": [
    "df['statistics']=df['statistics'].apply(', '.join)\n"
   ]
  },
  {
   "cell_type": "code",
   "execution_count": 142,
   "metadata": {},
   "outputs": [],
   "source": [
    "\n",
    "df['Name'] = df['Name'].str.get(0)\n",
    "df['URL'] = df['URL'].str.get(0)\n",
    "df['Type'] = df['Type'].str.get(0)"
   ]
  },
  {
   "cell_type": "code",
   "execution_count": 143,
   "metadata": {},
   "outputs": [
    {
     "data": {
      "text/html": [
       "<div>\n",
       "<style scoped>\n",
       "    .dataframe tbody tr th:only-of-type {\n",
       "        vertical-align: middle;\n",
       "    }\n",
       "\n",
       "    .dataframe tbody tr th {\n",
       "        vertical-align: top;\n",
       "    }\n",
       "\n",
       "    .dataframe thead th {\n",
       "        text-align: right;\n",
       "    }\n",
       "</style>\n",
       "<table border=\"1\" class=\"dataframe\">\n",
       "  <thead>\n",
       "    <tr style=\"text-align: right;\">\n",
       "      <th></th>\n",
       "      <th>statistics</th>\n",
       "      <th>Name</th>\n",
       "      <th>URL</th>\n",
       "      <th>Type</th>\n",
       "      <th>Total</th>\n",
       "    </tr>\n",
       "  </thead>\n",
       "  <tbody>\n",
       "    <tr>\n",
       "      <td>0</td>\n",
       "      <td>001, 45, 49, 49, 65, 65, 45</td>\n",
       "      <td>bulbasaur</td>\n",
       "      <td>/pokedex/bulbasaur</td>\n",
       "      <td>Grass Poison</td>\n",
       "      <td>318</td>\n",
       "    </tr>\n",
       "    <tr>\n",
       "      <td>1</td>\n",
       "      <td>002, 60, 62, 63, 80, 80, 60</td>\n",
       "      <td>ivysaur</td>\n",
       "      <td>/pokedex/ivysaur</td>\n",
       "      <td>Grass Poison</td>\n",
       "      <td>405</td>\n",
       "    </tr>\n",
       "    <tr>\n",
       "      <td>2</td>\n",
       "      <td>003, 80, 82, 83, 100, 100, 80</td>\n",
       "      <td>venusaur</td>\n",
       "      <td>/pokedex/venusaur</td>\n",
       "      <td>Grass Poison</td>\n",
       "      <td>525</td>\n",
       "    </tr>\n",
       "    <tr>\n",
       "      <td>3</td>\n",
       "      <td>003, 80, 100, 123, 122, 120, 80</td>\n",
       "      <td>venusaur</td>\n",
       "      <td>/pokedex/venusaur</td>\n",
       "      <td>Grass Poison</td>\n",
       "      <td>625</td>\n",
       "    </tr>\n",
       "    <tr>\n",
       "      <td>4</td>\n",
       "      <td>004, 39, 52, 43, 60, 50, 65</td>\n",
       "      <td>charmander</td>\n",
       "      <td>/pokedex/charmander</td>\n",
       "      <td>Fire</td>\n",
       "      <td>309</td>\n",
       "    </tr>\n",
       "  </tbody>\n",
       "</table>\n",
       "</div>"
      ],
      "text/plain": [
       "                        statistics        Name                  URL  \\\n",
       "0      001, 45, 49, 49, 65, 65, 45   bulbasaur   /pokedex/bulbasaur   \n",
       "1      002, 60, 62, 63, 80, 80, 60     ivysaur     /pokedex/ivysaur   \n",
       "2    003, 80, 82, 83, 100, 100, 80    venusaur    /pokedex/venusaur   \n",
       "3  003, 80, 100, 123, 122, 120, 80    venusaur    /pokedex/venusaur   \n",
       "4      004, 39, 52, 43, 60, 50, 65  charmander  /pokedex/charmander   \n",
       "\n",
       "           Type Total  \n",
       "0  Grass Poison   318  \n",
       "1  Grass Poison   405  \n",
       "2  Grass Poison   525  \n",
       "3  Grass Poison   625  \n",
       "4          Fire   309  "
      ]
     },
     "execution_count": 143,
     "metadata": {},
     "output_type": "execute_result"
    }
   ],
   "source": [
    "df.head()"
   ]
  },
  {
   "cell_type": "code",
   "execution_count": 144,
   "metadata": {},
   "outputs": [],
   "source": [
    "new = df['statistics'].str.split(\",\", n = 6, expand = True) \n"
   ]
  },
  {
   "cell_type": "code",
   "execution_count": 145,
   "metadata": {},
   "outputs": [],
   "source": [
    "df['ID Number']=new[0]\n",
    "df['HP']=new[1]\n",
    "df['Attack']=new[2]\n",
    "df['Defense']=new[3]\n",
    "df['Sp.Atk']=new[4]\n",
    "df['Sp.Def']=new[5]\n",
    "df['Speed']=new[6]"
   ]
  },
  {
   "cell_type": "code",
   "execution_count": 146,
   "metadata": {},
   "outputs": [],
   "source": [
    "df=df.drop('statistics', axis=1) "
   ]
  },
  {
   "cell_type": "code",
   "execution_count": 147,
   "metadata": {},
   "outputs": [],
   "source": [
    "df['Total']=df['Total'].astype(float)\n",
    "df['HP']=df['HP'].astype(float)\n",
    "df['Attack']=df['Attack'].astype(float)\n",
    "df['Defense']=df['Defense'].astype(float)\n",
    "df['Sp.Atk']=df['Sp.Atk'].astype(float)\n",
    "df['Sp.Def']=df['Sp.Def'].astype(float)\n",
    "df['Speed']=df['Speed'].astype(float)"
   ]
  },
  {
   "cell_type": "code",
   "execution_count": 148,
   "metadata": {},
   "outputs": [],
   "source": [
    "df=df.set_index('ID Number')\n"
   ]
  },
  {
   "cell_type": "code",
   "execution_count": 149,
   "metadata": {},
   "outputs": [
    {
     "data": {
      "text/html": [
       "<div>\n",
       "<style scoped>\n",
       "    .dataframe tbody tr th:only-of-type {\n",
       "        vertical-align: middle;\n",
       "    }\n",
       "\n",
       "    .dataframe tbody tr th {\n",
       "        vertical-align: top;\n",
       "    }\n",
       "\n",
       "    .dataframe thead th {\n",
       "        text-align: right;\n",
       "    }\n",
       "</style>\n",
       "<table border=\"1\" class=\"dataframe\">\n",
       "  <thead>\n",
       "    <tr style=\"text-align: right;\">\n",
       "      <th></th>\n",
       "      <th>Name</th>\n",
       "      <th>URL</th>\n",
       "      <th>Type</th>\n",
       "      <th>Total</th>\n",
       "      <th>HP</th>\n",
       "      <th>Attack</th>\n",
       "      <th>Defense</th>\n",
       "      <th>Sp.Atk</th>\n",
       "      <th>Sp.Def</th>\n",
       "      <th>Speed</th>\n",
       "    </tr>\n",
       "    <tr>\n",
       "      <th>ID Number</th>\n",
       "      <th></th>\n",
       "      <th></th>\n",
       "      <th></th>\n",
       "      <th></th>\n",
       "      <th></th>\n",
       "      <th></th>\n",
       "      <th></th>\n",
       "      <th></th>\n",
       "      <th></th>\n",
       "      <th></th>\n",
       "    </tr>\n",
       "  </thead>\n",
       "  <tbody>\n",
       "    <tr>\n",
       "      <td>001</td>\n",
       "      <td>bulbasaur</td>\n",
       "      <td>/pokedex/bulbasaur</td>\n",
       "      <td>Grass Poison</td>\n",
       "      <td>318.0</td>\n",
       "      <td>45.0</td>\n",
       "      <td>49.0</td>\n",
       "      <td>49.0</td>\n",
       "      <td>65.0</td>\n",
       "      <td>65.0</td>\n",
       "      <td>45.0</td>\n",
       "    </tr>\n",
       "    <tr>\n",
       "      <td>002</td>\n",
       "      <td>ivysaur</td>\n",
       "      <td>/pokedex/ivysaur</td>\n",
       "      <td>Grass Poison</td>\n",
       "      <td>405.0</td>\n",
       "      <td>60.0</td>\n",
       "      <td>62.0</td>\n",
       "      <td>63.0</td>\n",
       "      <td>80.0</td>\n",
       "      <td>80.0</td>\n",
       "      <td>60.0</td>\n",
       "    </tr>\n",
       "    <tr>\n",
       "      <td>003</td>\n",
       "      <td>venusaur</td>\n",
       "      <td>/pokedex/venusaur</td>\n",
       "      <td>Grass Poison</td>\n",
       "      <td>525.0</td>\n",
       "      <td>80.0</td>\n",
       "      <td>82.0</td>\n",
       "      <td>83.0</td>\n",
       "      <td>100.0</td>\n",
       "      <td>100.0</td>\n",
       "      <td>80.0</td>\n",
       "    </tr>\n",
       "    <tr>\n",
       "      <td>003</td>\n",
       "      <td>venusaur</td>\n",
       "      <td>/pokedex/venusaur</td>\n",
       "      <td>Grass Poison</td>\n",
       "      <td>625.0</td>\n",
       "      <td>80.0</td>\n",
       "      <td>100.0</td>\n",
       "      <td>123.0</td>\n",
       "      <td>122.0</td>\n",
       "      <td>120.0</td>\n",
       "      <td>80.0</td>\n",
       "    </tr>\n",
       "    <tr>\n",
       "      <td>004</td>\n",
       "      <td>charmander</td>\n",
       "      <td>/pokedex/charmander</td>\n",
       "      <td>Fire</td>\n",
       "      <td>309.0</td>\n",
       "      <td>39.0</td>\n",
       "      <td>52.0</td>\n",
       "      <td>43.0</td>\n",
       "      <td>60.0</td>\n",
       "      <td>50.0</td>\n",
       "      <td>65.0</td>\n",
       "    </tr>\n",
       "  </tbody>\n",
       "</table>\n",
       "</div>"
      ],
      "text/plain": [
       "                 Name                  URL          Type  Total    HP  Attack  \\\n",
       "ID Number                                                                       \n",
       "001         bulbasaur   /pokedex/bulbasaur  Grass Poison  318.0  45.0    49.0   \n",
       "002           ivysaur     /pokedex/ivysaur  Grass Poison  405.0  60.0    62.0   \n",
       "003          venusaur    /pokedex/venusaur  Grass Poison  525.0  80.0    82.0   \n",
       "003          venusaur    /pokedex/venusaur  Grass Poison  625.0  80.0   100.0   \n",
       "004        charmander  /pokedex/charmander          Fire  309.0  39.0    52.0   \n",
       "\n",
       "           Defense  Sp.Atk  Sp.Def  Speed  \n",
       "ID Number                                  \n",
       "001           49.0    65.0    65.0   45.0  \n",
       "002           63.0    80.0    80.0   60.0  \n",
       "003           83.0   100.0   100.0   80.0  \n",
       "003          123.0   122.0   120.0   80.0  \n",
       "004           43.0    60.0    50.0   65.0  "
      ]
     },
     "execution_count": 149,
     "metadata": {},
     "output_type": "execute_result"
    }
   ],
   "source": [
    "df.head()"
   ]
  },
  {
   "cell_type": "markdown",
   "metadata": {},
   "source": [
    "## Step 2.2 Create 18 dummy variables for each type of pokemon. "
   ]
  },
  {
   "cell_type": "code",
   "execution_count": 150,
   "metadata": {},
   "outputs": [],
   "source": [
    "\n",
    "import pandas as pd\n",
    "dummy=df['Type'].str.get_dummies(sep=' ')"
   ]
  },
  {
   "cell_type": "code",
   "execution_count": 151,
   "metadata": {},
   "outputs": [
    {
     "data": {
      "text/plain": [
       "28"
      ]
     },
     "execution_count": 151,
     "metadata": {},
     "output_type": "execute_result"
    }
   ],
   "source": [
    "\n",
    "df1=pd.concat([df,dummy],axis=1)\n",
    "len(df1.columns)"
   ]
  },
  {
   "cell_type": "markdown",
   "metadata": {},
   "source": [
    "## Step 2.3 Remove duplicate values of pokemon based on the URL"
   ]
  },
  {
   "cell_type": "code",
   "execution_count": 152,
   "metadata": {},
   "outputs": [
    {
     "data": {
      "text/plain": [
       "809"
      ]
     },
     "execution_count": 152,
     "metadata": {},
     "output_type": "execute_result"
    }
   ],
   "source": [
    "\n",
    "df1.drop_duplicates(subset =\"URL\", \n",
    "                     keep = 'first', inplace = True) \n",
    "len(df1)"
   ]
  },
  {
   "cell_type": "markdown",
   "metadata": {},
   "source": [
    "## Step 2.4 create a sample of the pokemon."
   ]
  },
  {
   "cell_type": "code",
   "execution_count": 153,
   "metadata": {},
   "outputs": [],
   "source": [
    "#Add a dummy variable to the DataFrame called \"sample\" that tags every 4th pokemon to be included in the sample\n",
    "df1['sample']=(df1.index.astype('int64') % 4==0).astype('int64')"
   ]
  },
  {
   "cell_type": "code",
   "execution_count": 154,
   "metadata": {},
   "outputs": [],
   "source": [
    "samples=df1['Name'][df1['sample']==1]"
   ]
  },
  {
   "cell_type": "markdown",
   "metadata": {},
   "source": [
    "# Step 3 - Scraping Individual Pages"
   ]
  },
  {
   "cell_type": "markdown",
   "metadata": {},
   "source": [
    "## Step 3.1 Scrape the main image for Bulbasaur in a general way that could be applied to other pokemon pages by searching for the relevant tag and extracting the image URL. "
   ]
  },
  {
   "cell_type": "code",
   "execution_count": 155,
   "metadata": {},
   "outputs": [],
   "source": [
    "\n",
    "from IPython.display import Image\n"
   ]
  },
  {
   "cell_type": "code",
   "execution_count": 156,
   "metadata": {},
   "outputs": [],
   "source": [
    "urlimage='https://pokemondb.net/pokedex/bulbasaur'\n",
    "image = requests.get(urlimage)\n",
    "# Response code is returned\n",
    "image_soup = BeautifulSoup(image.text, 'html.parser')\n",
    "#image_soup.prettify()"
   ]
  },
  {
   "cell_type": "code",
   "execution_count": 157,
   "metadata": {},
   "outputs": [
    {
     "name": "stdout",
     "output_type": "stream",
     "text": [
      "<img alt=\"Bulbasaur artwork by Ken Sugimori\" height=\"336\" src=\"https://img.pokemondb.net/artwork/bulbasaur.jpg\" width=\"360\"/><img alt=\"Bulbasaur  sprite from Red &amp; Blue\" class=\"img-fixed img-sprite-v1\" src=\"https://img.pokemondb.net/sprites/red-blue/normal/bulbasaur.png\"/><img alt=\"Bulbasaur  sprite from Silver\" class=\"img-fixed img-sprite-v3\" src=\"https://img.pokemondb.net/sprites/silver/normal/bulbasaur.png\"/><img alt=\"Bulbasaur  sprite from Ruby &amp; Sapphire\" class=\"img-fixed img-sprite-v5\" src=\"https://img.pokemondb.net/sprites/ruby-sapphire/normal/bulbasaur.png\"/><img alt=\"Bulbasaur  sprite from Diamond &amp; Pearl\" class=\"img-fixed img-sprite-v8\" src=\"https://img.pokemondb.net/sprites/diamond-pearl/normal/bulbasaur.png\"/><img alt=\"Bulbasaur  sprite from Black &amp; White\" class=\"img-fixed img-sprite-v11\" src=\"https://img.pokemondb.net/sprites/black-white/normal/bulbasaur.png\"/><img alt=\"Bulbasaur  sprite from X &amp; Y\" class=\"img-fixed img-sprite-v13\" src=\"https://img.pokemondb.net/sprites/x-y/normal/bulbasaur.png\" style=\"width:120px; height:120px\"/><img alt=\"Bulbasaur Shiny sprite from Silver\" class=\"img-fixed img-sprite-v3\" src=\"https://img.pokemondb.net/sprites/silver/shiny/bulbasaur.png\"/><img alt=\"Bulbasaur Shiny sprite from Ruby &amp; Sapphire\" class=\"img-fixed img-sprite-v5\" src=\"https://img.pokemondb.net/sprites/ruby-sapphire/shiny/bulbasaur.png\"/><img alt=\"Bulbasaur Shiny sprite from Diamond &amp; Pearl\" class=\"img-fixed img-sprite-v8\" src=\"https://img.pokemondb.net/sprites/diamond-pearl/shiny/bulbasaur.png\"/><img alt=\"Bulbasaur Shiny sprite from Black &amp; White\" class=\"img-fixed img-sprite-v11\" src=\"https://img.pokemondb.net/sprites/black-white/shiny/bulbasaur.png\"/><img alt=\"Bulbasaur Shiny sprite from X &amp; Y\" class=\"img-fixed img-sprite-v13\" src=\"https://img.pokemondb.net/sprites/x-y/shiny/bulbasaur.png\" style=\"width:120px; height:120px\"/>\n"
     ]
    }
   ],
   "source": [
    "image_string=''.join(str(e) for e in image_soup.find_all('img'))\n",
    "print(image_string)\n"
   ]
  },
  {
   "cell_type": "code",
   "execution_count": 158,
   "metadata": {},
   "outputs": [
    {
     "data": {
      "text/plain": [
       "'https://img.pokemondb.net/artwork/bulbasaur.jpg'"
      ]
     },
     "execution_count": 158,
     "metadata": {},
     "output_type": "execute_result"
    }
   ],
   "source": [
    "#Display image\n",
    "image= re.findall('https://.*/.*/.*.jpg', image_string)\n",
    "image[0]"
   ]
  },
  {
   "cell_type": "code",
   "execution_count": 159,
   "metadata": {},
   "outputs": [
    {
     "data": {
      "image/jpeg": "[encoded data removed]",
      "text/plain": [
       "<IPython.core.display.Image object>"
      ]
     },
     "execution_count": 159,
     "metadata": {},
     "output_type": "execute_result"
    }
   ],
   "source": [
    "import requests\n",
    "import IPython.display as Disp\n",
    "Disp.Image(requests.get(image[0]).content)"
   ]
  },
  {
   "cell_type": "markdown",
   "metadata": {},
   "source": [
    "## Step 3.2 Extract the location table."
   ]
  },
  {
   "cell_type": "code",
   "execution_count": 160,
   "metadata": {},
   "outputs": [],
   "source": [
    "\n",
    "url='https://pokemondb.net/pokedex/bulbasaur'\n",
    "tables = pd.read_html(requests.get(url, headers={'User-agent': 'Mozilla/5.0'}).text)"
   ]
  },
  {
   "cell_type": "code",
   "execution_count": 161,
   "metadata": {},
   "outputs": [
    {
     "data": {
      "text/html": [
       "<div>\n",
       "<style scoped>\n",
       "    .dataframe tbody tr th:only-of-type {\n",
       "        vertical-align: middle;\n",
       "    }\n",
       "\n",
       "    .dataframe tbody tr th {\n",
       "        vertical-align: top;\n",
       "    }\n",
       "\n",
       "    .dataframe thead th {\n",
       "        text-align: right;\n",
       "    }\n",
       "</style>\n",
       "<table border=\"1\" class=\"dataframe\">\n",
       "  <thead>\n",
       "    <tr style=\"text-align: right;\">\n",
       "      <th></th>\n",
       "      <th>0</th>\n",
       "      <th>1</th>\n",
       "    </tr>\n",
       "  </thead>\n",
       "  <tbody>\n",
       "    <tr>\n",
       "      <td>0</td>\n",
       "      <td>RedBlue</td>\n",
       "      <td>Pallet Town</td>\n",
       "    </tr>\n",
       "    <tr>\n",
       "      <td>1</td>\n",
       "      <td>Yellow</td>\n",
       "      <td>Cerulean City</td>\n",
       "    </tr>\n",
       "    <tr>\n",
       "      <td>2</td>\n",
       "      <td>GoldSilverCrystal</td>\n",
       "      <td>Trade/migrate from another game</td>\n",
       "    </tr>\n",
       "    <tr>\n",
       "      <td>3</td>\n",
       "      <td>RubySapphire</td>\n",
       "      <td>Trade/migrate from another game</td>\n",
       "    </tr>\n",
       "    <tr>\n",
       "      <td>4</td>\n",
       "      <td>FireRedLeafGreen</td>\n",
       "      <td>Pallet Town</td>\n",
       "    </tr>\n",
       "    <tr>\n",
       "      <td>5</td>\n",
       "      <td>Emerald</td>\n",
       "      <td>Trade/migrate from another game</td>\n",
       "    </tr>\n",
       "    <tr>\n",
       "      <td>6</td>\n",
       "      <td>DiamondPearlPlatinum</td>\n",
       "      <td>Trade/migrate from another game</td>\n",
       "    </tr>\n",
       "    <tr>\n",
       "      <td>7</td>\n",
       "      <td>HeartGoldSoulSilver</td>\n",
       "      <td>Pallet Town</td>\n",
       "    </tr>\n",
       "    <tr>\n",
       "      <td>8</td>\n",
       "      <td>BlackWhiteBlack 2White 2</td>\n",
       "      <td>Trade/migrate from another game</td>\n",
       "    </tr>\n",
       "    <tr>\n",
       "      <td>9</td>\n",
       "      <td>XY</td>\n",
       "      <td>Lumiose City</td>\n",
       "    </tr>\n",
       "    <tr>\n",
       "      <td>10</td>\n",
       "      <td>Omega RubyAlpha Sapphire</td>\n",
       "      <td>Trade/migrate from another game</td>\n",
       "    </tr>\n",
       "    <tr>\n",
       "      <td>11</td>\n",
       "      <td>SunMoon</td>\n",
       "      <td>Trade/migrate from another game</td>\n",
       "    </tr>\n",
       "    <tr>\n",
       "      <td>12</td>\n",
       "      <td>Ultra SunUltra Moon</td>\n",
       "      <td>Route 2</td>\n",
       "    </tr>\n",
       "    <tr>\n",
       "      <td>13</td>\n",
       "      <td>Let's Go PikachuLet's Go Eevee</td>\n",
       "      <td>Cerulean City, Viridian Forest</td>\n",
       "    </tr>\n",
       "  </tbody>\n",
       "</table>\n",
       "</div>"
      ],
      "text/plain": [
       "                                 0                                1\n",
       "0                          RedBlue                      Pallet Town\n",
       "1                           Yellow                    Cerulean City\n",
       "2                GoldSilverCrystal  Trade/migrate from another game\n",
       "3                     RubySapphire  Trade/migrate from another game\n",
       "4                 FireRedLeafGreen                      Pallet Town\n",
       "5                          Emerald  Trade/migrate from another game\n",
       "6             DiamondPearlPlatinum  Trade/migrate from another game\n",
       "7              HeartGoldSoulSilver                      Pallet Town\n",
       "8         BlackWhiteBlack 2White 2  Trade/migrate from another game\n",
       "9                               XY                     Lumiose City\n",
       "10        Omega RubyAlpha Sapphire  Trade/migrate from another game\n",
       "11                         SunMoon  Trade/migrate from another game\n",
       "12             Ultra SunUltra Moon                          Route 2\n",
       "13  Let's Go PikachuLet's Go Eevee   Cerulean City, Viridian Forest"
      ]
     },
     "execution_count": 161,
     "metadata": {},
     "output_type": "execute_result"
    }
   ],
   "source": [
    "#table that contains the locations for Bulbasaur\n",
    "tables[15]"
   ]
  },
  {
   "cell_type": "markdown",
   "metadata": {},
   "source": [
    "## Step 3.3 Transpose the DataFrame such that each column is a video game and each row/cell is the location "
   ]
  },
  {
   "cell_type": "code",
   "execution_count": 162,
   "metadata": {},
   "outputs": [],
   "source": [
    "table=tables[15].T\n",
    "table.columns = table.iloc[0]\n",
    "table=table.drop(table.index[0])"
   ]
  },
  {
   "cell_type": "code",
   "execution_count": 163,
   "metadata": {},
   "outputs": [
    {
     "data": {
      "text/html": [
       "<div>\n",
       "<style scoped>\n",
       "    .dataframe tbody tr th:only-of-type {\n",
       "        vertical-align: middle;\n",
       "    }\n",
       "\n",
       "    .dataframe tbody tr th {\n",
       "        vertical-align: top;\n",
       "    }\n",
       "\n",
       "    .dataframe thead th {\n",
       "        text-align: right;\n",
       "    }\n",
       "</style>\n",
       "<table border=\"1\" class=\"dataframe\">\n",
       "  <thead>\n",
       "    <tr style=\"text-align: right;\">\n",
       "      <th></th>\n",
       "      <th>RedBlue</th>\n",
       "      <th>Yellow</th>\n",
       "      <th>GoldSilverCrystal</th>\n",
       "      <th>RubySapphire</th>\n",
       "      <th>FireRedLeafGreen</th>\n",
       "      <th>Emerald</th>\n",
       "      <th>DiamondPearlPlatinum</th>\n",
       "      <th>HeartGoldSoulSilver</th>\n",
       "      <th>BlackWhiteBlack 2White 2</th>\n",
       "      <th>XY</th>\n",
       "      <th>Omega RubyAlpha Sapphire</th>\n",
       "      <th>SunMoon</th>\n",
       "      <th>Ultra SunUltra Moon</th>\n",
       "      <th>Let's Go PikachuLet's Go Eevee</th>\n",
       "    </tr>\n",
       "  </thead>\n",
       "  <tbody>\n",
       "    <tr>\n",
       "      <td>1</td>\n",
       "      <td>Pallet Town</td>\n",
       "      <td>Cerulean City</td>\n",
       "      <td>Trade/migrate from another game</td>\n",
       "      <td>Trade/migrate from another game</td>\n",
       "      <td>Pallet Town</td>\n",
       "      <td>Trade/migrate from another game</td>\n",
       "      <td>Trade/migrate from another game</td>\n",
       "      <td>Pallet Town</td>\n",
       "      <td>Trade/migrate from another game</td>\n",
       "      <td>Lumiose City</td>\n",
       "      <td>Trade/migrate from another game</td>\n",
       "      <td>Trade/migrate from another game</td>\n",
       "      <td>Route 2</td>\n",
       "      <td>Cerulean City, Viridian Forest</td>\n",
       "    </tr>\n",
       "  </tbody>\n",
       "</table>\n",
       "</div>"
      ],
      "text/plain": [
       "0      RedBlue         Yellow                GoldSilverCrystal  \\\n",
       "1  Pallet Town  Cerulean City  Trade/migrate from another game   \n",
       "\n",
       "0                     RubySapphire FireRedLeafGreen  \\\n",
       "1  Trade/migrate from another game      Pallet Town   \n",
       "\n",
       "0                          Emerald             DiamondPearlPlatinum  \\\n",
       "1  Trade/migrate from another game  Trade/migrate from another game   \n",
       "\n",
       "0 HeartGoldSoulSilver         BlackWhiteBlack 2White 2            XY  \\\n",
       "1         Pallet Town  Trade/migrate from another game  Lumiose City   \n",
       "\n",
       "0         Omega RubyAlpha Sapphire                          SunMoon  \\\n",
       "1  Trade/migrate from another game  Trade/migrate from another game   \n",
       "\n",
       "0 Ultra SunUltra Moon  Let's Go PikachuLet's Go Eevee  \n",
       "1             Route 2  Cerulean City, Viridian Forest  "
      ]
     },
     "execution_count": 163,
     "metadata": {},
     "output_type": "execute_result"
    }
   ],
   "source": [
    "table"
   ]
  },
  {
   "cell_type": "markdown",
   "metadata": {},
   "source": [
    "## Step 3.4 Extract the location table and transpose it for all the pokemon in the sample "
   ]
  },
  {
   "cell_type": "code",
   "execution_count": 164,
   "metadata": {},
   "outputs": [],
   "source": [
    "#Set up the pokeman route names\n",
    "import time\n",
    "samples=df1['Name'][df1['sample']==1]\n",
    "route_names=list(map(lambda x:x.lower(),samples))\n",
    "del route_names[-1]"
   ]
  },
  {
   "cell_type": "code",
   "execution_count": 165,
   "metadata": {},
   "outputs": [
    {
     "name": "stdout",
     "output_type": "stream",
     "text": [
      "Finished\n"
     ]
    }
   ],
   "source": [
    "#Extract the location table and transpose it for all the pokemon in the sample \n",
    "dfs = []\n",
    "for route_name in route_names:\n",
    "    url='https://pokemondb.net/pokedex/'+route_name\n",
    "    tables = pd.read_html(requests.get(url, headers={'User-agent': 'Mozilla/5.0'}).text)\n",
    "    tables=tables[-2].T\n",
    "    tables.columns = tables.iloc[0]\n",
    "    tables=tables.drop(tables.index[0])\n",
    "    tables['Name']=route_name\n",
    "    time.sleep(0.5)\n",
    "    dfs.append(tables)\n",
    "print(\"Finished\")"
   ]
  },
  {
   "cell_type": "code",
   "execution_count": 166,
   "metadata": {},
   "outputs": [
    {
     "data": {
      "text/plain": [
       "1672"
      ]
     },
     "execution_count": 166,
     "metadata": {},
     "output_type": "execute_result"
    }
   ],
   "source": [
    "#Get the size of the table list we just created\n",
    "import sys\n",
    "sys.getsizeof(dfs)"
   ]
  },
  {
   "cell_type": "markdown",
   "metadata": {},
   "source": [
    "## Because the location table is not in the same format for every page, so we will be extracting only the information for the X and Y games"
   ]
  },
  {
   "cell_type": "code",
   "execution_count": 167,
   "metadata": {},
   "outputs": [],
   "source": [
    "#Check if the the column 'XY' is in the DataFrame.create a new DataFrame with only the name for the pokemon and the 'XY' column. \n",
    "#Append that DataFrame to a list to concatenate with the other pokemon that have the XY location column. \n",
    "dfs1=[]\n",
    "for df in dfs:\n",
    "    if 'XY' in df.columns:\n",
    "        dfs1.append(df[['Name','XY']])\n"
   ]
  },
  {
   "cell_type": "code",
   "execution_count": 168,
   "metadata": {},
   "outputs": [
    {
     "data": {
      "text/html": [
       "<div>\n",
       "<style scoped>\n",
       "    .dataframe tbody tr th:only-of-type {\n",
       "        vertical-align: middle;\n",
       "    }\n",
       "\n",
       "    .dataframe tbody tr th {\n",
       "        vertical-align: top;\n",
       "    }\n",
       "\n",
       "    .dataframe thead th {\n",
       "        text-align: right;\n",
       "    }\n",
       "</style>\n",
       "<table border=\"1\" class=\"dataframe\">\n",
       "  <thead>\n",
       "    <tr style=\"text-align: right;\">\n",
       "      <th></th>\n",
       "      <th>Name</th>\n",
       "      <th>XY</th>\n",
       "    </tr>\n",
       "  </thead>\n",
       "  <tbody>\n",
       "    <tr>\n",
       "      <td>0</td>\n",
       "      <td>charmander</td>\n",
       "      <td>Lumiose City</td>\n",
       "    </tr>\n",
       "    <tr>\n",
       "      <td>1</td>\n",
       "      <td>wartortle</td>\n",
       "      <td>Evolve Squirtle</td>\n",
       "    </tr>\n",
       "    <tr>\n",
       "      <td>2</td>\n",
       "      <td>butterfree</td>\n",
       "      <td>Evolve Caterpie/Metapod</td>\n",
       "    </tr>\n",
       "    <tr>\n",
       "      <td>3</td>\n",
       "      <td>pidgey</td>\n",
       "      <td>Route 2, 3</td>\n",
       "    </tr>\n",
       "    <tr>\n",
       "      <td>4</td>\n",
       "      <td>raticate</td>\n",
       "      <td>Trade/migrate from another game</td>\n",
       "    </tr>\n",
       "  </tbody>\n",
       "</table>\n",
       "</div>"
      ],
      "text/plain": [
       "0        Name                               XY\n",
       "0  charmander                     Lumiose City\n",
       "1   wartortle                  Evolve Squirtle\n",
       "2  butterfree          Evolve Caterpie/Metapod\n",
       "3      pidgey                       Route 2, 3\n",
       "4    raticate  Trade/migrate from another game"
      ]
     },
     "execution_count": 168,
     "metadata": {},
     "output_type": "execute_result"
    }
   ],
   "source": [
    "#Create a single DataFrame that contains the name or URL of the pokemon and the XY location.\n",
    "#Append all the sample pokemon and their XY locations to a single DataFrame.\n",
    "XY=pd.DataFrame()\n",
    "XY=XY.append(dfs1,ignore_index=True)\n",
    "XY.head()"
   ]
  },
  {
   "cell_type": "code",
   "execution_count": 169,
   "metadata": {},
   "outputs": [
    {
     "data": {
      "text/plain": [
       "141"
      ]
     },
     "execution_count": 169,
     "metadata": {},
     "output_type": "execute_result"
    }
   ],
   "source": [
    "#test length of the new dataframe\n",
    "len(XY)\n"
   ]
  },
  {
   "cell_type": "markdown",
   "metadata": {},
   "source": [
    "# Step 4 - Analysis"
   ]
  },
  {
   "cell_type": "markdown",
   "metadata": {},
   "source": [
    "## Step 4.1 Which type has the highest and lowest average attack? Average defense? "
   ]
  },
  {
   "cell_type": "code",
   "execution_count": 170,
   "metadata": {},
   "outputs": [],
   "source": [
    "#Create a table that shows the average  attack and defense for each type. \n",
    "sampleDF=df1[df1['sample']==1]"
   ]
  },
  {
   "cell_type": "code",
   "execution_count": 171,
   "metadata": {},
   "outputs": [
    {
     "data": {
      "text/plain": [
       "['Bug',\n",
       " 'Dark',\n",
       " 'Dragon',\n",
       " 'Electric',\n",
       " 'Fairy',\n",
       " 'Fighting',\n",
       " 'Fire',\n",
       " 'Flying',\n",
       " 'Ghost',\n",
       " 'Grass',\n",
       " 'Ground',\n",
       " 'Ice',\n",
       " 'Normal',\n",
       " 'Poison',\n",
       " 'Psychic',\n",
       " 'Rock',\n",
       " 'Steel',\n",
       " 'Water']"
      ]
     },
     "execution_count": 171,
     "metadata": {},
     "output_type": "execute_result"
    }
   ],
   "source": [
    "dummies=list(sampleDF.columns[10:28])\n",
    "dummies"
   ]
  },
  {
   "cell_type": "code",
   "execution_count": 174,
   "metadata": {},
   "outputs": [],
   "source": [
    "pivot=[]\n",
    "for dummy in dummies:\n",
    "    pivot.append(sampleDF.pivot_table(values=['Attack','Defense'],columns=dummy,aggfunc='mean'))"
   ]
  },
  {
   "cell_type": "code",
   "execution_count": 217,
   "metadata": {},
   "outputs": [],
   "source": [
    "pivot_table=pd.concat(pivot, axis=1)"
   ]
  },
  {
   "cell_type": "code",
   "execution_count": 218,
   "metadata": {},
   "outputs": [],
   "source": [
    "pivot_table.drop(0, axis=1, inplace=True)"
   ]
  },
  {
   "cell_type": "code",
   "execution_count": 219,
   "metadata": {},
   "outputs": [],
   "source": [
    "pivot_table.columns=dummies"
   ]
  },
  {
   "cell_type": "code",
   "execution_count": 220,
   "metadata": {},
   "outputs": [],
   "source": [
    "#Each type should be a row. Average attack and defense should be columns.\n",
    "pivot_table=pivot_table.T"
   ]
  },
  {
   "cell_type": "code",
   "execution_count": 241,
   "metadata": {},
   "outputs": [
    {
     "data": {
      "image/png": "[encoded data removed]",
      "text/plain": [
       "<Figure size 1440x720 with 1 Axes>"
      ]
     },
     "metadata": {
      "needs_background": "light"
     },
     "output_type": "display_data"
    }
   ],
   "source": [
    "MeanAttackDefense=pivot_table.plot(kind='bar', stacked=True, width=0.5,figsize=(20,10)).get_figure()\n",
    "MeanAttackDefense.savefig('MeanAttackDefense.pdf')"
   ]
  },
  {
   "cell_type": "code",
   "execution_count": 179,
   "metadata": {},
   "outputs": [
    {
     "name": "stdout",
     "output_type": "stream",
     "text": [
      "Max values of columns are at row index position :\n",
      "Attack     Dragon\n",
      "Defense     Steel\n",
      "dtype: object\n"
     ]
    }
   ],
   "source": [
    "\n",
    "# get the index position of max values in every column\n",
    "maxValueType = pivot_table.idxmax()\n",
    " \n",
    "print(\"Max values of columns are at row index position :\")\n",
    "print(maxValueType)"
   ]
  },
  {
   "cell_type": "code",
   "execution_count": 180,
   "metadata": {},
   "outputs": [
    {
     "name": "stdout",
     "output_type": "stream",
     "text": [
      "Min values of columns are at row index position :\n",
      "Attack      Fairy\n",
      "Defense    Normal\n",
      "dtype: object\n"
     ]
    }
   ],
   "source": [
    "\n",
    "# get the index position of min values in every column\n",
    "minValueType = pivot_table.idxmin()\n",
    " \n",
    "print(\"Min values of columns are at row index position :\")\n",
    "print(minValueType)"
   ]
  },
  {
   "cell_type": "markdown",
   "metadata": {},
   "source": [
    "The Pokemon type that has the maximum average attack is Dragon, the type that has the maximum avaerage defense is steel"
   ]
  },
  {
   "cell_type": "markdown",
   "metadata": {},
   "source": [
    "The Pokemon type that has the minimum average attack is Fairy, the type that has the minimum avaerage defense is Normal"
   ]
  },
  {
   "cell_type": "markdown",
   "metadata": {},
   "source": [
    "## Step 4.2 For the locations in pokemon X/Y, which location has the highest average total point score?"
   ]
  },
  {
   "cell_type": "code",
   "execution_count": 181,
   "metadata": {},
   "outputs": [
    {
     "data": {
      "text/html": [
       "<div>\n",
       "<style scoped>\n",
       "    .dataframe tbody tr th:only-of-type {\n",
       "        vertical-align: middle;\n",
       "    }\n",
       "\n",
       "    .dataframe tbody tr th {\n",
       "        vertical-align: top;\n",
       "    }\n",
       "\n",
       "    .dataframe thead th {\n",
       "        text-align: right;\n",
       "    }\n",
       "</style>\n",
       "<table border=\"1\" class=\"dataframe\">\n",
       "  <thead>\n",
       "    <tr style=\"text-align: right;\">\n",
       "      <th></th>\n",
       "      <th>Name</th>\n",
       "      <th>XY</th>\n",
       "      <th>URL</th>\n",
       "      <th>Type</th>\n",
       "      <th>Total</th>\n",
       "      <th>HP</th>\n",
       "      <th>Attack</th>\n",
       "      <th>Defense</th>\n",
       "      <th>Sp.Atk</th>\n",
       "      <th>Sp.Def</th>\n",
       "      <th>...</th>\n",
       "      <th>Grass</th>\n",
       "      <th>Ground</th>\n",
       "      <th>Ice</th>\n",
       "      <th>Normal</th>\n",
       "      <th>Poison</th>\n",
       "      <th>Psychic</th>\n",
       "      <th>Rock</th>\n",
       "      <th>Steel</th>\n",
       "      <th>Water</th>\n",
       "      <th>sample</th>\n",
       "    </tr>\n",
       "  </thead>\n",
       "  <tbody>\n",
       "    <tr>\n",
       "      <td>0</td>\n",
       "      <td>charmander</td>\n",
       "      <td>Lumiose City</td>\n",
       "      <td>/pokedex/charmander</td>\n",
       "      <td>Fire</td>\n",
       "      <td>309.0</td>\n",
       "      <td>39.0</td>\n",
       "      <td>52.0</td>\n",
       "      <td>43.0</td>\n",
       "      <td>60.0</td>\n",
       "      <td>50.0</td>\n",
       "      <td>...</td>\n",
       "      <td>0</td>\n",
       "      <td>0</td>\n",
       "      <td>0</td>\n",
       "      <td>0</td>\n",
       "      <td>0</td>\n",
       "      <td>0</td>\n",
       "      <td>0</td>\n",
       "      <td>0</td>\n",
       "      <td>0</td>\n",
       "      <td>1</td>\n",
       "    </tr>\n",
       "    <tr>\n",
       "      <td>1</td>\n",
       "      <td>wartortle</td>\n",
       "      <td>Evolve Squirtle</td>\n",
       "      <td>/pokedex/wartortle</td>\n",
       "      <td>Water</td>\n",
       "      <td>405.0</td>\n",
       "      <td>59.0</td>\n",
       "      <td>63.0</td>\n",
       "      <td>80.0</td>\n",
       "      <td>65.0</td>\n",
       "      <td>80.0</td>\n",
       "      <td>...</td>\n",
       "      <td>0</td>\n",
       "      <td>0</td>\n",
       "      <td>0</td>\n",
       "      <td>0</td>\n",
       "      <td>0</td>\n",
       "      <td>0</td>\n",
       "      <td>0</td>\n",
       "      <td>0</td>\n",
       "      <td>1</td>\n",
       "      <td>1</td>\n",
       "    </tr>\n",
       "    <tr>\n",
       "      <td>2</td>\n",
       "      <td>butterfree</td>\n",
       "      <td>Evolve Caterpie/Metapod</td>\n",
       "      <td>/pokedex/butterfree</td>\n",
       "      <td>Bug Flying</td>\n",
       "      <td>395.0</td>\n",
       "      <td>60.0</td>\n",
       "      <td>45.0</td>\n",
       "      <td>50.0</td>\n",
       "      <td>90.0</td>\n",
       "      <td>80.0</td>\n",
       "      <td>...</td>\n",
       "      <td>0</td>\n",
       "      <td>0</td>\n",
       "      <td>0</td>\n",
       "      <td>0</td>\n",
       "      <td>0</td>\n",
       "      <td>0</td>\n",
       "      <td>0</td>\n",
       "      <td>0</td>\n",
       "      <td>0</td>\n",
       "      <td>1</td>\n",
       "    </tr>\n",
       "    <tr>\n",
       "      <td>3</td>\n",
       "      <td>pidgey</td>\n",
       "      <td>Route 2, 3</td>\n",
       "      <td>/pokedex/pidgey</td>\n",
       "      <td>Normal Flying</td>\n",
       "      <td>251.0</td>\n",
       "      <td>40.0</td>\n",
       "      <td>45.0</td>\n",
       "      <td>40.0</td>\n",
       "      <td>35.0</td>\n",
       "      <td>35.0</td>\n",
       "      <td>...</td>\n",
       "      <td>0</td>\n",
       "      <td>0</td>\n",
       "      <td>0</td>\n",
       "      <td>1</td>\n",
       "      <td>0</td>\n",
       "      <td>0</td>\n",
       "      <td>0</td>\n",
       "      <td>0</td>\n",
       "      <td>0</td>\n",
       "      <td>1</td>\n",
       "    </tr>\n",
       "    <tr>\n",
       "      <td>4</td>\n",
       "      <td>raticate</td>\n",
       "      <td>Trade/migrate from another game</td>\n",
       "      <td>/pokedex/raticate</td>\n",
       "      <td>Normal</td>\n",
       "      <td>413.0</td>\n",
       "      <td>55.0</td>\n",
       "      <td>81.0</td>\n",
       "      <td>60.0</td>\n",
       "      <td>50.0</td>\n",
       "      <td>70.0</td>\n",
       "      <td>...</td>\n",
       "      <td>0</td>\n",
       "      <td>0</td>\n",
       "      <td>0</td>\n",
       "      <td>1</td>\n",
       "      <td>0</td>\n",
       "      <td>0</td>\n",
       "      <td>0</td>\n",
       "      <td>0</td>\n",
       "      <td>0</td>\n",
       "      <td>1</td>\n",
       "    </tr>\n",
       "  </tbody>\n",
       "</table>\n",
       "<p>5 rows × 30 columns</p>\n",
       "</div>"
      ],
      "text/plain": [
       "         Name                               XY                  URL  \\\n",
       "0  charmander                     Lumiose City  /pokedex/charmander   \n",
       "1   wartortle                  Evolve Squirtle   /pokedex/wartortle   \n",
       "2  butterfree          Evolve Caterpie/Metapod  /pokedex/butterfree   \n",
       "3      pidgey                       Route 2, 3      /pokedex/pidgey   \n",
       "4    raticate  Trade/migrate from another game    /pokedex/raticate   \n",
       "\n",
       "            Type  Total    HP  Attack  Defense  Sp.Atk  Sp.Def  ...  Grass  \\\n",
       "0           Fire  309.0  39.0    52.0     43.0    60.0    50.0  ...      0   \n",
       "1          Water  405.0  59.0    63.0     80.0    65.0    80.0  ...      0   \n",
       "2     Bug Flying  395.0  60.0    45.0     50.0    90.0    80.0  ...      0   \n",
       "3  Normal Flying  251.0  40.0    45.0     40.0    35.0    35.0  ...      0   \n",
       "4         Normal  413.0  55.0    81.0     60.0    50.0    70.0  ...      0   \n",
       "\n",
       "   Ground  Ice  Normal  Poison  Psychic  Rock  Steel  Water  sample  \n",
       "0       0    0       0       0        0     0      0      0       1  \n",
       "1       0    0       0       0        0     0      0      1       1  \n",
       "2       0    0       0       0        0     0      0      0       1  \n",
       "3       0    0       1       0        0     0      0      0       1  \n",
       "4       0    0       1       0        0     0      0      0       1  \n",
       "\n",
       "[5 rows x 30 columns]"
      ]
     },
     "execution_count": 181,
     "metadata": {},
     "output_type": "execute_result"
    }
   ],
   "source": [
    "#Join the pokedex data to the  location DataFrame created in Step 3.4. \n",
    "merged=pd.merge(XY, df1, on='Name', how='inner')\n",
    "merged.head()"
   ]
  },
  {
   "cell_type": "code",
   "execution_count": 232,
   "metadata": {},
   "outputs": [],
   "source": [
    "XY_table=merged.set_index('XY').groupby(by='XY').mean()['Total']"
   ]
  },
  {
   "cell_type": "code",
   "execution_count": 237,
   "metadata": {},
   "outputs": [
    {
     "data": {
      "image/png": "[encoded data removed]",
      "text/plain": [
       "<Figure size 1440x5760 with 1 Axes>"
      ]
     },
     "metadata": {
      "needs_background": "light"
     },
     "output_type": "display_data"
    }
   ],
   "source": [
    "#XY_table.plot.bar(rot=270)\n",
    "MaxAverageTotal_in_XY=XY_table.plot(kind='bar', stacked=True, width=0.5,figsize=(20,80)).get_figure()\n",
    "MaxAverageTotal_in_XY.savefig('MaxAverageTotal_in_XY.pdf')"
   ]
  },
  {
   "cell_type": "code",
   "execution_count": 183,
   "metadata": {},
   "outputs": [
    {
     "name": "stdout",
     "output_type": "stream",
     "text": [
      "Location has the highest average total point score :\n",
      "Sea Spirit's Den, Roaming Kalos\n"
     ]
    }
   ],
   "source": [
    "maxValuelocation = XY_table.idxmax()\n",
    " \n",
    "print(\"Location has the highest average total point score :\")\n",
    "print(maxValuelocation)"
   ]
  },
  {
   "cell_type": "code",
   "execution_count": 184,
   "metadata": {},
   "outputs": [
    {
     "data": {
      "text/plain": [
       "580.0"
      ]
     },
     "execution_count": 184,
     "metadata": {},
     "output_type": "execute_result"
    }
   ],
   "source": [
    "XY_table[maxValuelocation]"
   ]
  },
  {
   "cell_type": "markdown",
   "metadata": {},
   "source": [
    "Location has the highest average total point score is Sea Spirit's Den, Roaming Kalos; the highest average total points is 580"
   ]
  }
 ],
 "metadata": {
  "kernelspec": {
   "display_name": "Python 3",
   "language": "python",
   "name": "python3"
  },
  "language_info": {
   "codemirror_mode": {
    "name": "ipython",
    "version": 3
   },
   "file_extension": ".py",
   "mimetype": "text/x-python",
   "name": "python",
   "nbconvert_exporter": "python",
   "pygments_lexer": "ipython3",
   "version": "3.7.4"
  }
 },
 "nbformat": 4,
 "nbformat_minor": 2
}
